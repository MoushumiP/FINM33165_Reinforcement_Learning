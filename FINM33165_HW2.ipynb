{
 "cells": [
  {
   "cell_type": "markdown",
   "id": "23868d45",
   "metadata": {},
   "source": [
    "Asn 2\n",
    "\n",
    "Moushumi Pardesi"
   ]
  },
  {
   "cell_type": "code",
   "execution_count": 1,
   "id": "97893e88",
   "metadata": {},
   "outputs": [],
   "source": [
    "import torch\n",
    "import torch.nn as nn\n",
    "import torch.optim as optim\n",
    "from torchvision import datasets, transforms\n",
    "import matplotlib.pyplot as plt"
   ]
  },
  {
   "cell_type": "markdown",
   "id": "f9b47780",
   "metadata": {},
   "source": [
    "Problem 1\n",
    "\n",
    "Write an Encoder network with 3 linear layers that inputs MNIST images and outputs an 8-dimensional vector of means and an 8-dimensional positive vector of variances"
   ]
  },
  {
   "cell_type": "code",
   "execution_count": 2,
   "id": "8866b94a",
   "metadata": {},
   "outputs": [],
   "source": [
    "class Encoder(nn.Module):\n",
    "    def __init__(self):\n",
    "        super(Encoder, self).__init__()\n",
    "        self.fc1 = nn.Linear(784, 256)\n",
    "        self.fc2 = nn.Linear(256, 64)\n",
    "        self.fc_mu = nn.Linear(64, 8)\n",
    "        self.fc_logvar = nn.Linear(64, 8)\n",
    "\n",
    "    def forward(self, x):\n",
    "        x = x.view(-1, 784)\n",
    "        x = torch.relu(self.fc1(x))\n",
    "        x = torch.relu(self.fc2(x))\n",
    "        mu = self.fc_mu(x)\n",
    "        logvar = self.fc_logvar(x)\n",
    "        return mu, logvar"
   ]
  },
  {
   "cell_type": "markdown",
   "id": "343c4217",
   "metadata": {},
   "source": [
    "Problem 2\n",
    "\n",
    "Write code that inputs an 8-dimensional vector $\\mu$ and an 8-dimensional positive vector $\\sigma$ and a sample $\\varepsilon$ from an 8 -dimensional $\\mathcal{N}(0, I)$ to generate a sample from $\\mathcal{N}(\\mu, \\sigma I)$\n"
   ]
  },
  {
   "cell_type": "code",
   "execution_count": 3,
   "id": "f00666fa",
   "metadata": {},
   "outputs": [],
   "source": [
    "def sample_from_latent(mu, logvar):\n",
    "    std = torch.exp(0.5 * logvar)\n",
    "    epsilon = torch.randn_like(std)\n",
    "    z = mu + std * epsilon\n",
    "    return z"
   ]
  },
  {
   "cell_type": "markdown",
   "id": "165b4506",
   "metadata": {},
   "source": [
    "Problem 3\n",
    "\n",
    "Use your code from Problem 2. to write a Decoder network that takes a sample from $\\mathcal{N}(\\mu, \\sigma I)$ (an 8-dimensional vector). Use 3 linear layers and ReLU activation functions and sigmoid function to output a 784-dimensional tensor, resphape it to $28 \\times 28$ and plot the resulting image."
   ]
  },
  {
   "cell_type": "code",
   "execution_count": 4,
   "id": "3ae1c951",
   "metadata": {},
   "outputs": [],
   "source": [
    "class Decoder(nn.Module):\n",
    "    def __init__(self):\n",
    "        super(Decoder, self).__init__()\n",
    "        self.fc1 = nn.Linear(8, 64)\n",
    "        self.fc2 = nn.Linear(64, 256)\n",
    "        self.fc3 = nn.Linear(256, 784)\n",
    "\n",
    "    def forward(self, z):\n",
    "        z = torch.relu(self.fc1(z))\n",
    "        z = torch.relu(self.fc2(z))\n",
    "        x_recon = torch.sigmoid(self.fc3(z))\n",
    "        return x_recon.view(-1, 1, 28, 28)"
   ]
  },
  {
   "cell_type": "markdown",
   "id": "3efa0daa",
   "metadata": {},
   "source": [
    "Problem 4\n",
    "\n",
    "Put the Encoder and Decoder together to write a Variational Autoencoder and train it on the MNIST dataset.\n",
    "\n",
    "Fix an input image and use the output of the Encoder to make a $\\mu$ and a $\\sigma$. Make 10 samples from $\\mathcal{N}(\\mu, \\sigma I)$ and plot the output of the Decoder on these samples."
   ]
  },
  {
   "cell_type": "code",
   "execution_count": 5,
   "id": "b1f91e23",
   "metadata": {},
   "outputs": [],
   "source": [
    "class VAE(nn.Module):\n",
    "    def __init__(self):\n",
    "        super(VAE, self).__init__()\n",
    "        self.encoder = Encoder()\n",
    "        self.decoder = Decoder()\n",
    "\n",
    "    def forward(self, x):\n",
    "        mu, logvar = self.encoder(x)\n",
    "        z = sample_from_latent(mu, logvar)\n",
    "        x_recon = self.decoder(z)\n",
    "        return x_recon, mu, logvar\n"
   ]
  },
  {
   "cell_type": "markdown",
   "id": "f5c7ce55",
   "metadata": {},
   "source": [
    "training VAE"
   ]
  },
  {
   "cell_type": "code",
   "execution_count": 6,
   "id": "2c6ecf20",
   "metadata": {},
   "outputs": [],
   "source": [
    "def train_vae(vae, train_loader, num_epochs=10, learning_rate=1e-3):\n",
    "    vae.to(device)\n",
    "    optimizer = optim.Adam(vae.parameters(), lr=learning_rate)\n",
    "    criterion = nn.BCELoss(reduction='sum')\n",
    "\n",
    "    for epoch in range(num_epochs):\n",
    "        vae.train()\n",
    "        total_loss = 0\n",
    "        for batch_idx, (data, _) in enumerate(train_loader):\n",
    "            data = data.to(device)\n",
    "            optimizer.zero_grad()\n",
    "            recon_batch, mu, logvar = vae(data)\n",
    "            loss = vae_loss(recon_batch, data, mu, logvar, criterion)\n",
    "            loss.backward()\n",
    "            total_loss += loss.item()\n",
    "            optimizer.step()\n",
    "        print(f\"Epoch {epoch+1}/{num_epochs}, Loss: {total_loss/len(train_loader.dataset)}\")"
   ]
  },
  {
   "cell_type": "markdown",
   "id": "96a19f55",
   "metadata": {},
   "source": [
    "VAE loss"
   ]
  },
  {
   "cell_type": "code",
   "execution_count": 7,
   "id": "9ae09fd0",
   "metadata": {},
   "outputs": [],
   "source": [
    "def vae_loss(recon_x, x, mu, logvar, criterion):\n",
    "    BCE = criterion(recon_x, x)\n",
    "    KLD = -0.5 * torch.sum(1 + logvar - mu.pow(2) - logvar.exp())\n",
    "    return BCE + KLD"
   ]
  },
  {
   "cell_type": "markdown",
   "id": "1a196a81",
   "metadata": {},
   "source": [
    "samples generation and plotting"
   ]
  },
  {
   "cell_type": "code",
   "execution_count": 8,
   "id": "58887642",
   "metadata": {},
   "outputs": [],
   "source": [
    "def generate_samples(vae, num_samples=10):\n",
    "    with torch.no_grad():\n",
    "        z = torch.randn(num_samples, 8).to(device)\n",
    "        samples = vae.decoder(z).cpu()\n",
    "        for i in range(num_samples):\n",
    "            plt.subplot(1, num_samples, i+1)\n",
    "            plt.imshow(samples[i].view(28, 28), cmap='gray')\n",
    "            plt.axis('off')\n",
    "        plt.show()"
   ]
  },
  {
   "cell_type": "markdown",
   "id": "98d65e97",
   "metadata": {},
   "source": [
    "loaders"
   ]
  },
  {
   "cell_type": "code",
   "execution_count": 9,
   "id": "839cb616",
   "metadata": {},
   "outputs": [],
   "source": [
    "transform = transforms.Compose([transforms.ToTensor()])\n",
    "batch_size = 64\n",
    "train_loader = torch.utils.data.DataLoader(datasets.MNIST('data', train=True, download=True, transform=transform), batch_size=batch_size, shuffle=True)\n"
   ]
  },
  {
   "cell_type": "markdown",
   "id": "eb07e46e",
   "metadata": {},
   "source": [
    "initialize and train"
   ]
  },
  {
   "cell_type": "code",
   "execution_count": 10,
   "id": "3708cf16",
   "metadata": {},
   "outputs": [
    {
     "name": "stdout",
     "output_type": "stream",
     "text": [
      "Epoch 1/10, Loss: 169.48852694498697\n",
      "Epoch 2/10, Loss: 128.77385850423178\n",
      "Epoch 3/10, Loss: 122.03365836588542\n",
      "Epoch 4/10, Loss: 118.5577557454427\n",
      "Epoch 5/10, Loss: 116.44623402506511\n",
      "Epoch 6/10, Loss: 114.9700483194987\n",
      "Epoch 7/10, Loss: 113.81037947998047\n",
      "Epoch 8/10, Loss: 112.90748069661458\n",
      "Epoch 9/10, Loss: 112.19294886881511\n",
      "Epoch 10/10, Loss: 111.56607801513672\n"
     ]
    }
   ],
   "source": [
    "device = torch.device(\"cuda\" if torch.cuda.is_available() else \"cpu\")\n",
    "vae = VAE()\n",
    "train_vae(vae, train_loader)"
   ]
  },
  {
   "cell_type": "markdown",
   "id": "3d0e5e9e",
   "metadata": {},
   "source": [
    "generate samples and plot"
   ]
  },
  {
   "cell_type": "code",
   "execution_count": 11,
   "id": "3d03ee1f",
   "metadata": {},
   "outputs": [
    {
     "data": {
      "image/png": "[encoded data removed]",
      "text/plain": [
       "<Figure size 640x480 with 10 Axes>"
      ]
     },
     "metadata": {},
     "output_type": "display_data"
    }
   ],
   "source": [
    "generate_samples(vae)"
   ]
  }
 ],
 "metadata": {
  "kernelspec": {
   "display_name": "Python 3 (ipykernel)",
   "language": "python",
   "name": "python3"
  },
  "language_info": {
   "codemirror_mode": {
    "name": "ipython",
    "version": 3
   },
   "file_extension": ".py",
   "mimetype": "text/x-python",
   "name": "python",
   "nbconvert_exporter": "python",
   "pygments_lexer": "ipython3",
   "version": "3.11.4"
  }
 },
 "nbformat": 4,
 "nbformat_minor": 5
}
